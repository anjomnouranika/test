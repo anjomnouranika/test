{
  "nbformat": 4,
  "nbformat_minor": 0,
  "metadata": {
    "colab": {
      "name": "Untitled16.ipynb",
      "provenance": [],
      "collapsed_sections": [],
      "authorship_tag": "ABX9TyOIPEgFVJlhoyJbxTic6SBC",
      "include_colab_link": true
    },
    "kernelspec": {
      "name": "python3",
      "display_name": "Python 3"
    }
  },
  "cells": [
    {
      "cell_type": "markdown",
      "metadata": {
        "id": "view-in-github",
        "colab_type": "text"
      },
      "source": [
        "<a href=\"https://colab.research.google.com/github/anjomnouranika/test/blob/master/Untitled16.ipynb\" target=\"_parent\"><img src=\"https://colab.research.google.com/assets/colab-badge.svg\" alt=\"Open In Colab\"/></a>"
      ]
    },
    {
      "cell_type": "code",
      "metadata": {
        "id": "NRvJqFYjmxpj",
        "colab_type": "code",
        "colab": {
          "base_uri": "https://localhost:8080/",
          "height": 85
        },
        "outputId": "c179dfff-2f63-4642-9173-7e474dcf3298"
      },
      "source": [
        "a = int(input(\" a = \"))\n",
        "b = int(input(\" b = \"))\n",
        "c = int(input(\" c = \"))\n",
        "if (a + c > b) or (b + c > a) or (a + b > c):\n",
        "  print(\"valid\")\n",
        "else:\n",
        "  print(\"invalid\")  "
      ],
      "execution_count": 3,
      "outputs": [
        {
          "output_type": "stream",
          "text": [
            " a = 3\n",
            " b = 10\n",
            " c = 5\n",
            "valid\n"
          ],
          "name": "stdout"
        }
      ]
    }
  ]
}