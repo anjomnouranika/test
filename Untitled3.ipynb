{
  "nbformat": 4,
  "nbformat_minor": 0,
  "metadata": {
    "colab": {
      "name": "Untitled3.ipynb",
      "provenance": [],
      "collapsed_sections": [],
      "authorship_tag": "ABX9TyOBPdfZeXEbAnbV/WOn15or",
      "include_colab_link": true
    },
    "kernelspec": {
      "name": "python3",
      "display_name": "Python 3"
    }
  },
  "cells": [
    {
      "cell_type": "markdown",
      "metadata": {
        "id": "view-in-github",
        "colab_type": "text"
      },
      "source": [
        "<a href=\"https://colab.research.google.com/github/anjomnouranika/test/blob/master/Untitled3.ipynb\" target=\"_parent\"><img src=\"https://colab.research.google.com/assets/colab-badge.svg\" alt=\"Open In Colab\"/></a>"
      ]
    },
    {
      "cell_type": "code",
      "metadata": {
        "id": "nx1e2u1AO0Vj",
        "colab_type": "code",
        "colab": {}
      },
      "source": [
        "num = int(input(\"number = \"))\n",
        "if num % 5 ==0 and num % 11 ==0:\n",
        "  print(\"%1d is divisible 5 and 11\"%(num))\n",
        "else :\n",
        "  print(\"it's not divisible\")  "
      ],
      "execution_count": null,
      "outputs": []
    }
  ]
}