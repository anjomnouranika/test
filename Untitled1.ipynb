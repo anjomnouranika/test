{
  "nbformat": 4,
  "nbformat_minor": 0,
  "metadata": {
    "colab": {
      "name": "Untitled1.ipynb",
      "provenance": [],
      "authorship_tag": "ABX9TyMghB0WBXvX/UV0hgg6vZMd",
      "include_colab_link": true
    },
    "kernelspec": {
      "name": "python3",
      "display_name": "Python 3"
    }
  },
  "cells": [
    {
      "cell_type": "markdown",
      "metadata": {
        "id": "view-in-github",
        "colab_type": "text"
      },
      "source": [
        "<a href=\"https://colab.research.google.com/github/anjomnouranika/test/blob/master/Untitled1.ipynb\" target=\"_parent\"><img src=\"https://colab.research.google.com/assets/colab-badge.svg\" alt=\"Open In Colab\"/></a>"
      ]
    },
    {
      "cell_type": "code",
      "metadata": {
        "id": "lSzLMFHWmDAy",
        "colab_type": "code",
        "colab": {
          "base_uri": "https://localhost:8080/",
          "height": 85
        },
        "outputId": "07717a81-4ab2-42be-db91-580e33578c9e"
      },
      "source": [
        "num1 = int(input(\"num1=\"))\n",
        "num2 = int(input(\"num2=\"))\n",
        "num3 = int(input(\"num3=\"))\n",
        "if num1 < num2 and num2 < num3 and num3 > num1:\n",
        "  print(num3)\n",
        "elif num1 > num2 and num2 > num3 and num3 < num1:\n",
        "  print(num1)\n",
        "else:\n",
        "  print(num2)"
      ],
      "execution_count": null,
      "outputs": [
        {
          "output_type": "stream",
          "text": [
            "num1=2\n",
            "num2=3\n",
            "num3=5\n",
            "5\n"
          ],
          "name": "stdout"
        }
      ]
    },
    {
      "cell_type": "code",
      "metadata": {
        "id": "dw_IKH-mqRM9",
        "colab_type": "code",
        "colab": {
          "base_uri": "https://localhost:8080/",
          "height": 129
        },
        "outputId": "a235215f-e89b-40bb-d056-bf6f54b87da1"
      },
      "source": [
        "num1 = int(input())\n",
        "num2 = int(input())\n",
        "num3 = int(input())\n",
        "if num1 > num2:\n",
        "  if num1 > num3:\n",
        "    max = num1\n",
        "  else:\n",
        "    max = num3\n",
        "print(max)\n",
        "else:\n",
        "   if num2 > num3:\n",
        "    max = num2\n",
        "   else:\n",
        "    max = num3\n",
        "print(max)    \n",
        "\n"
      ],
      "execution_count": null,
      "outputs": [
        {
          "output_type": "error",
          "ename": "SyntaxError",
          "evalue": "ignored",
          "traceback": [
            "\u001b[0;36m  File \u001b[0;32m\"<ipython-input-18-b46736d0ea42>\"\u001b[0;36m, line \u001b[0;32m10\u001b[0m\n\u001b[0;31m    else:\u001b[0m\n\u001b[0m       ^\u001b[0m\n\u001b[0;31mSyntaxError\u001b[0m\u001b[0;31m:\u001b[0m invalid syntax\n"
          ]
        }
      ]
    }
  ]
}